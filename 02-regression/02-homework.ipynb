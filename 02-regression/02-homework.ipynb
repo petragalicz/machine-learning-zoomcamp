{
 "cells": [
  {
   "cell_type": "code",
   "execution_count": 94,
   "id": "5cb62bcf-b0e5-4db3-b679-18c0f63feec1",
   "metadata": {},
   "outputs": [],
   "source": [
    "import pandas as pd\n",
    "import numpy as np\n",
    "import matplotlib.pyplot as plt\n",
    "import seaborn as sns\n",
    "from sklearn.linear_model import LinearRegression\n",
    "from sklearn.metrics import mean_squared_error\n",
    "\n",
    "\n",
    "\n",
    "%matplotlib inline"
   ]
  },
  {
   "cell_type": "code",
   "execution_count": 95,
   "id": "194aaf3b-76ac-4213-906d-24a44ba03e60",
   "metadata": {},
   "outputs": [],
   "source": [
    "data = \"https://raw.githubusercontent.com/alexeygrigorev/datasets/master/car_fuel_efficiency.csv\""
   ]
  },
  {
   "cell_type": "code",
   "execution_count": 96,
   "id": "40bda0ee-911c-4cc3-a3e8-c9f939ad3932",
   "metadata": {},
   "outputs": [
    {
     "name": "stdout",
     "output_type": "stream",
     "text": [
      "--2025-10-08 19:57:05--  https://raw.githubusercontent.com/alexeygrigorev/datasets/master/car_fuel_efficiency.csv\n",
      "Resolving raw.githubusercontent.com (raw.githubusercontent.com)... 185.199.111.133, 185.199.108.133, 185.199.109.133, ...\n",
      "Connecting to raw.githubusercontent.com (raw.githubusercontent.com)|185.199.111.133|:443... connected.\n",
      "HTTP request sent, awaiting response... 200 OK\n",
      "Length: 874188 (854K) [text/plain]\n",
      "Saving to: ‘car_fuel_efficiency.csv.3’\n",
      "\n",
      "car_fuel_efficiency 100%[===================>] 853.70K  --.-KB/s    in 0.009s  \n",
      "\n",
      "2025-10-08 19:57:05 (89.4 MB/s) - ‘car_fuel_efficiency.csv.3’ saved [874188/874188]\n",
      "\n"
     ]
    }
   ],
   "source": [
    "!wget $data "
   ]
  },
  {
   "cell_type": "code",
   "execution_count": 97,
   "id": "14f0b15b-87f4-4dd9-8e05-a28d4ffc9ac2",
   "metadata": {},
   "outputs": [],
   "source": [
    "df_full = pd.read_csv('car_fuel_efficiency.csv')"
   ]
  },
  {
   "cell_type": "code",
   "execution_count": 101,
   "id": "dc20c5ec-d544-47df-b8d6-7ac139ea8cb8",
   "metadata": {},
   "outputs": [],
   "source": [
    "df = df_full[['engine_displacement','horsepower','vehicle_weight','model_year','fuel_efficiency_mpg']]"
   ]
  },
  {
   "cell_type": "code",
   "execution_count": 102,
   "id": "9d475cab-b3ca-4ae1-a9d9-47888f89d545",
   "metadata": {},
   "outputs": [
    {
     "data": {
      "text/html": [
       "<div>\n",
       "<style scoped>\n",
       "    .dataframe tbody tr th:only-of-type {\n",
       "        vertical-align: middle;\n",
       "    }\n",
       "\n",
       "    .dataframe tbody tr th {\n",
       "        vertical-align: top;\n",
       "    }\n",
       "\n",
       "    .dataframe thead th {\n",
       "        text-align: right;\n",
       "    }\n",
       "</style>\n",
       "<table border=\"1\" class=\"dataframe\">\n",
       "  <thead>\n",
       "    <tr style=\"text-align: right;\">\n",
       "      <th></th>\n",
       "      <th>engine_displacement</th>\n",
       "      <th>horsepower</th>\n",
       "      <th>vehicle_weight</th>\n",
       "      <th>model_year</th>\n",
       "      <th>fuel_efficiency_mpg</th>\n",
       "    </tr>\n",
       "  </thead>\n",
       "  <tbody>\n",
       "    <tr>\n",
       "      <th>0</th>\n",
       "      <td>170</td>\n",
       "      <td>159.0</td>\n",
       "      <td>3413.433759</td>\n",
       "      <td>2003</td>\n",
       "      <td>13.231729</td>\n",
       "    </tr>\n",
       "    <tr>\n",
       "      <th>1</th>\n",
       "      <td>130</td>\n",
       "      <td>97.0</td>\n",
       "      <td>3149.664934</td>\n",
       "      <td>2007</td>\n",
       "      <td>13.688217</td>\n",
       "    </tr>\n",
       "    <tr>\n",
       "      <th>2</th>\n",
       "      <td>170</td>\n",
       "      <td>78.0</td>\n",
       "      <td>3079.038997</td>\n",
       "      <td>2018</td>\n",
       "      <td>14.246341</td>\n",
       "    </tr>\n",
       "    <tr>\n",
       "      <th>3</th>\n",
       "      <td>220</td>\n",
       "      <td>NaN</td>\n",
       "      <td>2542.392402</td>\n",
       "      <td>2009</td>\n",
       "      <td>16.912736</td>\n",
       "    </tr>\n",
       "    <tr>\n",
       "      <th>4</th>\n",
       "      <td>210</td>\n",
       "      <td>140.0</td>\n",
       "      <td>3460.870990</td>\n",
       "      <td>2009</td>\n",
       "      <td>12.488369</td>\n",
       "    </tr>\n",
       "    <tr>\n",
       "      <th>...</th>\n",
       "      <td>...</td>\n",
       "      <td>...</td>\n",
       "      <td>...</td>\n",
       "      <td>...</td>\n",
       "      <td>...</td>\n",
       "    </tr>\n",
       "    <tr>\n",
       "      <th>9699</th>\n",
       "      <td>140</td>\n",
       "      <td>164.0</td>\n",
       "      <td>2981.107371</td>\n",
       "      <td>2013</td>\n",
       "      <td>15.101802</td>\n",
       "    </tr>\n",
       "    <tr>\n",
       "      <th>9700</th>\n",
       "      <td>180</td>\n",
       "      <td>154.0</td>\n",
       "      <td>2439.525729</td>\n",
       "      <td>2004</td>\n",
       "      <td>17.962326</td>\n",
       "    </tr>\n",
       "    <tr>\n",
       "      <th>9701</th>\n",
       "      <td>220</td>\n",
       "      <td>138.0</td>\n",
       "      <td>2583.471318</td>\n",
       "      <td>2008</td>\n",
       "      <td>17.186587</td>\n",
       "    </tr>\n",
       "    <tr>\n",
       "      <th>9702</th>\n",
       "      <td>230</td>\n",
       "      <td>177.0</td>\n",
       "      <td>2905.527390</td>\n",
       "      <td>2011</td>\n",
       "      <td>15.331551</td>\n",
       "    </tr>\n",
       "    <tr>\n",
       "      <th>9703</th>\n",
       "      <td>270</td>\n",
       "      <td>140.0</td>\n",
       "      <td>2908.043477</td>\n",
       "      <td>2005</td>\n",
       "      <td>14.884467</td>\n",
       "    </tr>\n",
       "  </tbody>\n",
       "</table>\n",
       "<p>9704 rows × 5 columns</p>\n",
       "</div>"
      ],
      "text/plain": [
       "      engine_displacement  horsepower  vehicle_weight  model_year  \\\n",
       "0                     170       159.0     3413.433759        2003   \n",
       "1                     130        97.0     3149.664934        2007   \n",
       "2                     170        78.0     3079.038997        2018   \n",
       "3                     220         NaN     2542.392402        2009   \n",
       "4                     210       140.0     3460.870990        2009   \n",
       "...                   ...         ...             ...         ...   \n",
       "9699                  140       164.0     2981.107371        2013   \n",
       "9700                  180       154.0     2439.525729        2004   \n",
       "9701                  220       138.0     2583.471318        2008   \n",
       "9702                  230       177.0     2905.527390        2011   \n",
       "9703                  270       140.0     2908.043477        2005   \n",
       "\n",
       "      fuel_efficiency_mpg  \n",
       "0               13.231729  \n",
       "1               13.688217  \n",
       "2               14.246341  \n",
       "3               16.912736  \n",
       "4               12.488369  \n",
       "...                   ...  \n",
       "9699            15.101802  \n",
       "9700            17.962326  \n",
       "9701            17.186587  \n",
       "9702            15.331551  \n",
       "9703            14.884467  \n",
       "\n",
       "[9704 rows x 5 columns]"
      ]
     },
     "execution_count": 102,
     "metadata": {},
     "output_type": "execute_result"
    }
   ],
   "source": [
    "df"
   ]
  },
  {
   "cell_type": "code",
   "execution_count": 103,
   "id": "7bd6a54a-c01a-4fa0-a167-02b6e932bd8d",
   "metadata": {},
   "outputs": [
    {
     "data": {
      "text/plain": [
       "<Axes: xlabel='fuel_efficiency_mpg', ylabel='Count'>"
      ]
     },
     "execution_count": 103,
     "metadata": {},
     "output_type": "execute_result"
    },
    {
     "data": {
      "image/png": "[encoded data removed]",
      "text/plain": [
       "<Figure size 640x480 with 1 Axes>"
      ]
     },
     "metadata": {},
     "output_type": "display_data"
    }
   ],
   "source": [
    "sns.histplot(df.fuel_efficiency_mpg, bins=50)"
   ]
  },
  {
   "cell_type": "code",
   "execution_count": 104,
   "id": "d7b607e4-ce03-4ee5-a96b-0050fe8198bf",
   "metadata": {},
   "outputs": [
    {
     "data": {
      "text/plain": [
       "engine_displacement      0\n",
       "horsepower             708\n",
       "vehicle_weight           0\n",
       "model_year               0\n",
       "fuel_efficiency_mpg      0\n",
       "dtype: int64"
      ]
     },
     "execution_count": 104,
     "metadata": {},
     "output_type": "execute_result"
    }
   ],
   "source": [
    "df.isnull().sum()"
   ]
  },
  {
   "cell_type": "code",
   "execution_count": 105,
   "id": "1a589286-98e1-4446-ba26-a6012ce93e0b",
   "metadata": {},
   "outputs": [
    {
     "name": "stdout",
     "output_type": "stream",
     "text": [
      "149.0\n"
     ]
    }
   ],
   "source": [
    "median = df[\"horsepower\"].median()\n",
    "print(median)"
   ]
  },
  {
   "cell_type": "code",
   "execution_count": 106,
   "id": "de389c6d-3b50-437b-949d-04041cc41359",
   "metadata": {},
   "outputs": [],
   "source": [
    "n = len(df)\n",
    "\n",
    "n_val = int(n * 0.2)\n",
    "n_test = int(n * 0.2)\n",
    "n_train = n - n_val - n_test"
   ]
  },
  {
   "cell_type": "code",
   "execution_count": 107,
   "id": "73c0f310-11e8-41df-8449-c681b2039b73",
   "metadata": {},
   "outputs": [],
   "source": [
    "idx = np.arange(n)"
   ]
  },
  {
   "cell_type": "code",
   "execution_count": 108,
   "id": "62bbacd6-656a-4b29-872c-bae56323ba6a",
   "metadata": {},
   "outputs": [],
   "source": [
    "np.random.seed(42)"
   ]
  },
  {
   "cell_type": "code",
   "execution_count": 109,
   "id": "11a5a145-90b5-4f8a-9a63-4edf83fd13ee",
   "metadata": {},
   "outputs": [],
   "source": [
    "np.random.shuffle(idx)"
   ]
  },
  {
   "cell_type": "code",
   "execution_count": 110,
   "id": "5fce950a-c330-419c-b69a-44e6558f3efa",
   "metadata": {},
   "outputs": [],
   "source": [
    "df_train = df.iloc[idx[:n_train]]\n",
    "df_val = df.iloc[idx[n_train:n_train+n_val]]\n",
    "df_test = df.iloc[idx[n_train+n_val:]]"
   ]
  },
  {
   "cell_type": "code",
   "execution_count": 111,
   "id": "aa7a5408-7f4d-4c1d-8e6f-ab1509eb11a4",
   "metadata": {},
   "outputs": [],
   "source": [
    "# Features\n",
    "X_train = df_train[[\"horsepower\"]].copy()\n",
    "y_train = df_train[\"fuel_efficiency_mpg\"].copy()\n",
    "\n",
    "X_val = df_val[[\"horsepower\"]].copy()\n",
    "y_val = df_val[\"fuel_efficiency_mpg\"].copy()"
   ]
  },
  {
   "cell_type": "code",
   "execution_count": 112,
   "id": "a811e653-31b3-4c72-a3a2-53d269a30cfc",
   "metadata": {},
   "outputs": [
    {
     "name": "stdout",
     "output_type": "stream",
     "text": [
      "RMSE (fill with 0): 6.99\n"
     ]
    }
   ],
   "source": [
    "# ----- Option 1: fill missing horsepower with 0 -----\n",
    "X_train_0 = X_train.copy()\n",
    "X_val_0   = X_val.copy()\n",
    "\n",
    "X_train_0[\"horsepower\"] = X_train_0[\"horsepower\"].fillna(0)\n",
    "X_val_0[\"horsepower\"]   = X_val_0[\"horsepower\"].fillna(0)\n",
    "\n",
    "m0 = LinearRegression()\n",
    "m0.fit(X_train_0, y_train)\n",
    "\n",
    "pred0 = m0.predict(X_val_0)\n",
    "rmse0 = mean_squared_error(y_val, pred0)\n",
    "print(\"RMSE (fill with 0):\", round(rmse0, 2))\n"
   ]
  },
  {
   "cell_type": "code",
   "execution_count": 113,
   "id": "cdc0df3f-9738-4e3f-9bb3-3f3544ffa1df",
   "metadata": {},
   "outputs": [
    {
     "name": "stdout",
     "output_type": "stream",
     "text": [
      "RMSE (fill with mean): 6.97\n"
     ]
    }
   ],
   "source": [
    "# ----- Option 2: fill missing horsepower with MEAN computed on TRAIN ONLY -----\n",
    "X_train_m = X_train.copy()\n",
    "X_val_m   = X_val.copy()\n",
    "\n",
    "hp_mean = X_train_m[\"horsepower\"].mean()\n",
    "\n",
    "X_train_m[\"horsepower\"] = X_train_m[\"horsepower\"].fillna(hp_mean)\n",
    "X_val_m[\"horsepower\"]   = X_val_m[\"horsepower\"].fillna(hp_mean)\n",
    "\n",
    "m_mean = LinearRegression()\n",
    "m_mean.fit(X_train_m, y_train)\n",
    "\n",
    "predm = m_mean.predict(X_val_m)\n",
    "rmsem = mean_squared_error(y_val, predm)\n",
    "print(\"RMSE (fill with mean):\", round(rmsem, 2))\n",
    "\n"
   ]
  },
  {
   "cell_type": "code",
   "execution_count": 114,
   "id": "60739766-1976-4102-9341-b5f6ca2828f3",
   "metadata": {},
   "outputs": [],
   "source": [
    "# Function for splitting and shuffling data\n",
    "def shuffle_data(df, seed):\n",
    "    \"\"\"\n",
    "    This function splits the data into train - validation - test sets with\n",
    "    respectively 60% - 20% - 20% of the original dataframe, shuffles the obtained sets,\n",
    "    and returns them with new index.\n",
    "    ---\n",
    "    df: dataframe\n",
    "    seed: numpy seed for reproducibility\n",
    "    \"\"\"\n",
    "    # Data set size\n",
    "    n = len(df)\n",
    "    # Validation and Test Size\n",
    "    n_val = n_test = int(n * 0.2)\n",
    "    # Train set size\n",
    "    n_train = n - (n_val * 2)\n",
    "    \n",
    "    # Create an index\n",
    "    idx = np.arange(n)\n",
    "    # Shuffle the index\n",
    "    np.random.seed(seed) # for reproducibility\n",
    "    np.random.shuffle(idx)\n",
    "\n",
    "    # Train - Val - Test splitting\n",
    "    df_train = df.iloc[idx[ : n_train]]\n",
    "    df_val = df.iloc[idx[n_train : n_train + n_val]]\n",
    "    df_test = df.iloc[idx[n_train + n_val : ]]\n",
    "\n",
    "    # Reset indexes\n",
    "    df_train.reset_index(drop = True, inplace = True)\n",
    "    df_val.reset_index(drop = True, inplace = True)\n",
    "    df_test.reset_index(drop = True, inplace = True)\n",
    "\n",
    "    # return shuffled data\n",
    "    return df_train, df_val, df_test\n",
    "    \n",
    "# Data Preparation Function\n",
    "def prepare_X(df, fill_value = 0):\n",
    "    \"\"\"\n",
    "    This function prepares a feature matrix `X`.\n",
    "    ---\n",
    "    df: dataframe,\n",
    "    fill_value: value used for filling missing values if any.\n",
    "        default: `0`\n",
    "        Otherwise, please preferably enter a dictionnary or a single value.\n",
    "    \"\"\"\n",
    "    # Remove target feature\n",
    "    df_num = df.drop(columns = \"fuel_efficiency_mpg\")\n",
    "\n",
    "    # Filling missing values\n",
    "    df_num = df_num.fillna(fill_value)\n",
    "\n",
    "    # Extract an array\n",
    "    X = np.array(df_num)\n",
    "\n",
    "    # return feature matrix\n",
    "    return X\n",
    "    \n",
    "# Linear regression model traininng\n",
    "\n",
    "def train_linear_regression(X, y, r = 0):\n",
    "    \"\"\"\n",
    "    Function to train a linear regression model.\n",
    "    ---\n",
    "    X: Feature matrix\n",
    "    y: target vector\n",
    "    r: regularization parameter if any,\n",
    "        defalut value: 0 (no regularization)\n",
    "    \"\"\"\n",
    "    # X_0 vector\n",
    "    ones = np.ones(X.shape[0])   \n",
    "    # Feature matrix\n",
    "    X = np.column_stack([ones, X])\n",
    "    \n",
    "    # Gram matrix\n",
    "    XTX = X.T.dot(X)\n",
    "    # Regularization\n",
    "    XTX = XTX + r * np.eye(XTX.shape[0])\n",
    "    # Gram matrix inverse\n",
    "    XTX_inv = np.linalg.inv(XTX)\n",
    "    \n",
    "    # Weights\n",
    "    w_full = XTX_inv.dot(X.T).dot(y)\n",
    "\n",
    "    # return slope and coefficients\n",
    "    return w_full[0], w_full[1 :]\n",
    "    \n",
    "# Root Mean Square Root Error Function\n",
    "\n",
    "def rmse(y, y_pred):\n",
    "    \"\"\"\n",
    "    Root Mean Square Error between real values and model predictions.\n",
    "    ---\n",
    "    y: real values\n",
    "    y_pred: model predictions\n",
    "    \"\"\"\n",
    "    # Square errors\n",
    "    se = (y - y_pred) ** 2\n",
    "\n",
    "    # Mean square error\n",
    "    mse = se.mean()\n",
    "\n",
    "    # return root mean square error\n",
    "    return np.sqrt(mse)"
   ]
  },
  {
   "cell_type": "code",
   "execution_count": 115,
   "id": "e9fa0fcd-bf65-431f-a700-47cbbbc7d296",
   "metadata": {},
   "outputs": [],
   "source": [
    "# Funtion to evaluate the model\n",
    "def evaluate_model(train, val, fill_value = 0, r = 0):\n",
    "    \"\"\"\n",
    "    This function evaluates a linear regression model by returning a rounded rmse.\n",
    "    ---\n",
    "    train: training dataframe \n",
    "    val: validation dataframe\n",
    "    fill_value: value used for filling missing values if any,\n",
    "        default: `0`,\n",
    "        Otherwise, please preferably enter a dictionnary or a single value\n",
    "    r: regularization parameter for linear regression\n",
    "    \"\"\"\n",
    "    # Extract targets\n",
    "    y_train = train.fuel_efficiency_mpg.values\n",
    "    y_val = val.fuel_efficiency_mpg.values\n",
    "    \n",
    "    # Prepare training data\n",
    "    X_train = prepare_X(train, fill_value)\n",
    "    \n",
    "    # Linear Regression\n",
    "    w0, w = train_linear_regression(X_train, y_train, r)\n",
    "    \n",
    "    # Prepare validation data\n",
    "    X_val = prepare_X(val, fill_value)\n",
    "    \n",
    "    # Make predictions on validation data\n",
    "    y_pred = w0 + X_val.dot(w)\n",
    "    \n",
    "    # Rounded RMSE on validation data\n",
    "    score = rmse(y_val, y_pred)\n",
    "\n",
    "    # return score\n",
    "    return round(score, 3)"
   ]
  },
  {
   "cell_type": "code",
   "execution_count": 120,
   "id": "b9061d67-a37f-41a2-8581-97a12ef228bb",
   "metadata": {},
   "outputs": [
    {
     "data": {
      "text/plain": [
       "0.00      0.513\n",
       "0.01      0.513\n",
       "0.10      0.516\n",
       "1.00      0.520\n",
       "5.00      0.520\n",
       "10.00     0.521\n",
       "100.00    0.521\n",
       "Name: parameters_results, dtype: float64"
      ]
     },
     "execution_count": 120,
     "metadata": {},
     "output_type": "execute_result"
    }
   ],
   "source": [
    "# values for the parameters\n",
    "params = [0, 0.01, 0.1, 1, 5, 10, 100]\n",
    "\n",
    "# Initialize results\n",
    "results = []\n",
    "\n",
    "# Model Fine Tuning with parameters\n",
    "for param in params:\n",
    "    # store model evaluation score into results\n",
    "    results += [evaluate_model(train = df_train, val = df_val, fill_value = 0, r = param)]\n",
    "\n",
    "# Visualize the results\n",
    "pd.Series(data = results, index = params, name = \"parameters_results\")"
   ]
  },
  {
   "cell_type": "code",
   "execution_count": 121,
   "id": "0f1fb757-0a87-4d65-b399-8009a921fc66",
   "metadata": {},
   "outputs": [
    {
     "data": {
      "text/plain": [
       "0    0.521\n",
       "1    0.521\n",
       "2    0.523\n",
       "3    0.516\n",
       "4    0.511\n",
       "5    0.528\n",
       "6    0.531\n",
       "7    0.509\n",
       "8    0.515\n",
       "9    0.513\n",
       "Name: seeds_results, dtype: float64"
      ]
     },
     "execution_count": 121,
     "metadata": {},
     "output_type": "execute_result"
    }
   ],
   "source": [
    "# question 5 \n",
    "# 0-9 seeds\n",
    "seeds = list(range(10))\n",
    "\n",
    "# Initialize results\n",
    "results = []\n",
    "\n",
    "# Model Fine Tuning with data splitting\n",
    "for s in seeds:\n",
    "    # Train - Validation - test\n",
    "    df_train, df_val, df_test = shuffle_data(df = df, seed = s)\n",
    "\n",
    "    # store model evaluation score into results\n",
    "    results += [evaluate_model(train = df_train, val = df_val, fill_value = 0, r = 0)]\n",
    "\n",
    "# Visualize the results\n",
    "rmse_seeds = pd.Series(data = results, index = seeds, name = \"seeds_results\")\n",
    "rmse_seeds"
   ]
  },
  {
   "cell_type": "code",
   "execution_count": 118,
   "id": "a468c2c6-7838-4d45-a730-1448c36121a3",
   "metadata": {},
   "outputs": [
    {
     "data": {
      "text/plain": [
       "np.float64(0.007)"
      ]
     },
     "execution_count": 118,
     "metadata": {},
     "output_type": "execute_result"
    }
   ],
   "source": [
    "# Standard deviation of all scores\n",
    "std = np.std(rmse_seeds)\n",
    "round(std, 3)"
   ]
  },
  {
   "cell_type": "code",
   "execution_count": 119,
   "id": "70392d3d-4ffc-458b-912f-69567824849b",
   "metadata": {},
   "outputs": [
    {
     "data": {
      "text/plain": [
       "np.float64(0.516)"
      ]
     },
     "execution_count": 119,
     "metadata": {},
     "output_type": "execute_result"
    }
   ],
   "source": [
    "# question 6\n",
    "# Train - Validation - test with a seed of `9`\n",
    "df_train, df_val, df_test = shuffle_data(df = df, seed = 9)\n",
    "\n",
    "# Combine Training and Validation sets\n",
    "df_full_train = pd.concat([df_train, df_val])\n",
    "\n",
    "# model evaluation score on the test dataset\n",
    "evaluate_model(train = df_full_train, val = df_test, fill_value = 0, r = 0.001)"
   ]
  }
 ],
 "metadata": {
  "kernelspec": {
   "display_name": "Python 3 (ipykernel)",
   "language": "python",
   "name": "python3"
  },
  "language_info": {
   "codemirror_mode": {
    "name": "ipython",
    "version": 3
   },
   "file_extension": ".py",
   "mimetype": "text/x-python",
   "name": "python",
   "nbconvert_exporter": "python",
   "pygments_lexer": "ipython3",
   "version": "3.12.1"
  }
 },
 "nbformat": 4,
 "nbformat_minor": 5
}
